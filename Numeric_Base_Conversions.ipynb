{
 "cells": [
  {
   "cell_type": "code",
   "execution_count": 3,
   "id": "47b4726f-eb1f-412a-abc3-602bf89673fd",
   "metadata": {},
   "outputs": [],
   "source": [
    "%run conversions.py"
   ]
  },
  {
   "cell_type": "markdown",
   "id": "dfb2db3b-81a8-429b-9dc8-587261efd01a",
   "metadata": {},
   "source": [
    "# Numeric-Base Conversions"
   ]
  },
  {
   "cell_type": "markdown",
   "id": "0df09ec2-02da-4eea-ae0c-3e105ec0e7a0",
   "metadata": {},
   "source": [
    "This is a simple tool to do numeric-base conversions.  Functions are grouped by the source numeric type: Binary, Decimal, and Hexadecimal.  To use it, find the source/target function you want (e.g., Binary-to-Decimal), load the function, enter your binary value in the following "
   ]
  },
  {
   "cell_type": "code",
   "execution_count": 4,
   "id": "758b17d6-b787-4be8-b8bb-954930247fd0",
   "metadata": {},
   "outputs": [
    {
     "name": "stdout",
     "output_type": "stream",
     "text": [
      "hello, world!\n"
     ]
    }
   ],
   "source": [
    "hello_world()"
   ]
  },
  {
   "cell_type": "code",
   "execution_count": null,
   "id": "31fa4c8c-6b99-46b0-a7a5-934935d3d0bf",
   "metadata": {},
   "outputs": [],
   "source": []
  }
 ],
 "metadata": {
  "kernelspec": {
   "display_name": "Python 3 (ipykernel)",
   "language": "python",
   "name": "python3"
  },
  "language_info": {
   "codemirror_mode": {
    "name": "ipython",
    "version": 3
   },
   "file_extension": ".py",
   "mimetype": "text/x-python",
   "name": "python",
   "nbconvert_exporter": "python",
   "pygments_lexer": "ipython3",
   "version": "3.12.4"
  }
 },
 "nbformat": 4,
 "nbformat_minor": 5
}
