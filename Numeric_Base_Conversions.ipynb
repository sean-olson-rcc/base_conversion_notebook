{
 "cells": [
  {
   "cell_type": "markdown",
   "id": "dfb2db3b-81a8-429b-9dc8-587261efd01a",
   "metadata": {},
   "source": [
    "# Numeric-Base Conversions"
   ]
  },
  {
   "cell_type": "markdown",
   "id": "0df09ec2-02da-4eea-ae0c-3e105ec0e7a0",
   "metadata": {},
   "source": [
    "This is a simple tool to do numeric-base conversions.  Functions are grouped by the numeric base type of the input value: Binary, Octal, Decimal, and Hexadecimal.  To use it, begin by running the cell below with the command `%run conversions.py`.  This will load the conversion function library. Then, scroll to the cell group for your given input base type, enter your source value in the input variable, then run the conversion cells appropriate to your case."
   ]
  },
  {
   "cell_type": "code",
   "execution_count": 59,
   "id": "47b4726f-eb1f-412a-abc3-602bf89673fd",
   "metadata": {},
   "outputs": [],
   "source": [
    "%run conversions.py"
   ]
  },
  {
   "cell_type": "markdown",
   "id": "94623e9a-0d15-4fed-a415-76d54d1329fa",
   "metadata": {},
   "source": [
    "## Conversions from Binary\n"
   ]
  },
  {
   "cell_type": "code",
   "execution_count": 76,
   "id": "e5af9ecc-c43a-44ec-a833-63478f475022",
   "metadata": {},
   "outputs": [],
   "source": [
    "# ENTER THE BINARY INPUT VALUE, RUN THE CELL TO SET IT, THEN, RUN THE APPROPRIATE CONVERSION CELLS\n",
    "input_binary_value = \"11111111\""
   ]
  },
  {
   "cell_type": "code",
   "execution_count": 80,
   "id": "836dc9b2-668c-4e26-b876-8dfe5e607987",
   "metadata": {},
   "outputs": [
    {
     "name": "stdout",
     "output_type": "stream",
     "text": [
      "377\n"
     ]
    }
   ],
   "source": [
    "binary_to_octal(input_binary_value)"
   ]
  },
  {
   "cell_type": "code",
   "execution_count": 81,
   "id": "4a234ca5-aff9-4cb8-9ab8-17fb285b3cfd",
   "metadata": {},
   "outputs": [
    {
     "name": "stdout",
     "output_type": "stream",
     "text": [
      "255\n"
     ]
    }
   ],
   "source": [
    "binary_to_decimal(input_binary_value)"
   ]
  },
  {
   "cell_type": "code",
   "execution_count": 79,
   "id": "51144474-5889-457f-856d-a8a4bc7598a0",
   "metadata": {},
   "outputs": [
    {
     "name": "stdout",
     "output_type": "stream",
     "text": [
      "FF\n"
     ]
    }
   ],
   "source": [
    "binary_to_hex(input_binary_value)"
   ]
  },
  {
   "cell_type": "markdown",
   "id": "2f984340-609e-45c2-ab9f-1dc14c85f0d3",
   "metadata": {},
   "source": [
    "## Conversions from Octal"
   ]
  },
  {
   "cell_type": "code",
   "execution_count": 82,
   "id": "d3748805-0898-4322-a356-3a48af8d52c3",
   "metadata": {},
   "outputs": [],
   "source": [
    "# ENTER THE OCTAL INPUT VALUE, RUN THE CELL TO SET IT, THEN, RUN THE APPROPRIATE CONVERSION CELLS\n",
    "input_octal_value = \"377\""
   ]
  },
  {
   "cell_type": "code",
   "execution_count": 83,
   "id": "79ef7b9c-a940-4cf3-b250-99a38b78e1cb",
   "metadata": {},
   "outputs": [
    {
     "name": "stdout",
     "output_type": "stream",
     "text": [
      "11111111\n"
     ]
    }
   ],
   "source": [
    "octal_to_binary(input_octal_value)"
   ]
  },
  {
   "cell_type": "code",
   "execution_count": 84,
   "id": "cdab0582-b432-4e29-9e94-2dcf35843cbd",
   "metadata": {},
   "outputs": [
    {
     "name": "stdout",
     "output_type": "stream",
     "text": [
      "255\n"
     ]
    }
   ],
   "source": [
    "octal_to_decimal(input_octal_value)"
   ]
  },
  {
   "cell_type": "code",
   "execution_count": 85,
   "id": "6f3de3be-0e22-4926-98d4-cfdb8521ae31",
   "metadata": {},
   "outputs": [
    {
     "name": "stdout",
     "output_type": "stream",
     "text": [
      "FF\n"
     ]
    }
   ],
   "source": [
    "octal_to_hex(input_octal_value)"
   ]
  },
  {
   "cell_type": "markdown",
   "id": "b78965a9-af26-49a5-8c85-0b8f3b41a1c4",
   "metadata": {},
   "source": [
    "## Conversions from Decimal"
   ]
  },
  {
   "cell_type": "code",
   "execution_count": 86,
   "id": "801cf588-0a51-40be-b833-aa77508f49a4",
   "metadata": {},
   "outputs": [],
   "source": [
    "# ENTER THE DECIMAL INPUT VALUE, RUN THE CELL TO SET IT, THEN, RUN THE APPROPRIATE CONVERSION CELLS\n",
    "input_decimal_value = \"255\""
   ]
  },
  {
   "cell_type": "code",
   "execution_count": 87,
   "id": "a6d901d8-2391-4db6-8292-1011326b5a0b",
   "metadata": {},
   "outputs": [
    {
     "name": "stdout",
     "output_type": "stream",
     "text": [
      "11111111\n"
     ]
    }
   ],
   "source": [
    "decimal_to_binary(input_decimal_value)"
   ]
  },
  {
   "cell_type": "code",
   "execution_count": 88,
   "id": "69fc03f9-5b23-452b-8032-1a886b3a1311",
   "metadata": {},
   "outputs": [
    {
     "name": "stdout",
     "output_type": "stream",
     "text": [
      "377\n"
     ]
    }
   ],
   "source": [
    "decimal_to_octal(input_decimal_value)"
   ]
  },
  {
   "cell_type": "code",
   "execution_count": 89,
   "id": "e14dc098-d3b8-4132-a8cb-cfac0c74033a",
   "metadata": {},
   "outputs": [
    {
     "name": "stdout",
     "output_type": "stream",
     "text": [
      "FF\n"
     ]
    }
   ],
   "source": [
    "decimal_to_hex(input_decimal_value)"
   ]
  },
  {
   "cell_type": "markdown",
   "id": "af554b91-141e-4f5f-9932-ef4dc860cff4",
   "metadata": {},
   "source": [
    "## Conversions from Hexadecimal"
   ]
  },
  {
   "cell_type": "code",
   "execution_count": 90,
   "id": "53667bc2-4b1b-412e-9064-1e7741644a54",
   "metadata": {},
   "outputs": [],
   "source": [
    "# ENTER THE HEXADECIMAL INPUT VALUE, RUN THE CELL TO SET IT, THEN, RUN THE APPROPRIATE CONVERSION CELLS\n",
    "input_hex_value = \"FF\""
   ]
  },
  {
   "cell_type": "code",
   "execution_count": 91,
   "id": "c22a4304-9322-4b80-aaac-418353797ac0",
   "metadata": {},
   "outputs": [
    {
     "name": "stdout",
     "output_type": "stream",
     "text": [
      "11111111\n"
     ]
    }
   ],
   "source": [
    "hex_to_binary(input_hex_value)"
   ]
  },
  {
   "cell_type": "code",
   "execution_count": 92,
   "id": "5bf4c5e3-d11e-4fa7-a849-c814542d15b4",
   "metadata": {},
   "outputs": [
    {
     "name": "stdout",
     "output_type": "stream",
     "text": [
      "377\n"
     ]
    }
   ],
   "source": [
    "hex_to_octal(input_hex_value)"
   ]
  },
  {
   "cell_type": "code",
   "execution_count": 93,
   "id": "d1d68364-ccf3-4507-808c-6008b8357b6a",
   "metadata": {},
   "outputs": [
    {
     "name": "stdout",
     "output_type": "stream",
     "text": [
      "255\n"
     ]
    }
   ],
   "source": [
    "hex_to_decimal(input_hex_value)"
   ]
  },
  {
   "cell_type": "code",
   "execution_count": null,
   "id": "8b1d2f2b-18d1-4a88-b05b-1b8de3e2bca1",
   "metadata": {},
   "outputs": [],
   "source": []
  }
 ],
 "metadata": {
  "kernelspec": {
   "display_name": "Python 3 (ipykernel)",
   "language": "python",
   "name": "python3"
  },
  "language_info": {
   "codemirror_mode": {
    "name": "ipython",
    "version": 3
   },
   "file_extension": ".py",
   "mimetype": "text/x-python",
   "name": "python",
   "nbconvert_exporter": "python",
   "pygments_lexer": "ipython3",
   "version": "3.12.4"
  }
 },
 "nbformat": 4,
 "nbformat_minor": 5
}
